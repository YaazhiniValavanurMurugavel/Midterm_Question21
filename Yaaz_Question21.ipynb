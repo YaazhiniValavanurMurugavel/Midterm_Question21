{
 "cells": [
  {
   "cell_type": "code",
   "execution_count": null,
   "id": "9d3f195a",
   "metadata": {},
   "outputs": [],
   "source": [
    "Question 21\n",
    "\n",
    "In a jupyter notebook solve the following question. Please upload the notebook to GitHub and provide the link submission box below.\n",
    "\n",
    " \n",
    "\n",
    "__int()__: Constructor that takes as input a pair of Point objects that represent the ends points of the line segment\n",
    "\n",
    "Length():: returns the length if the segment \n",
    "\n",
    "Slope() returns the slope of the segment of none if the slope is unbounded \n",
    "\n",
    " \n",
    "\n",
    ">>> p1 = Point(3,4)\n",
    "\n",
    ">>> p2 = Point()\n",
    "\n",
    ">>> s = Segment(p1,p2)\n",
    "\n",
    ">>> s.length()\n",
    "\n",
    "5.0\n",
    "\n",
    ">>> s.slope()\n",
    "\n",
    "0.75\n"
   ]
  },
  {
   "cell_type": "code",
   "execution_count": 1,
   "id": "1e5e4e51",
   "metadata": {},
   "outputs": [
    {
     "name": "stdout",
     "output_type": "stream",
     "text": [
      "Length: 5.0\n",
      "Slope: 0.75\n"
     ]
    }
   ],
   "source": [
    "class Point:\n",
    "    def __init__(points, x=0, y=0):\n",
    "        points.x = x\n",
    "        points.y = y\n",
    "\n",
    "class Segment:\n",
    "    def __init__(points, p1, p2):\n",
    "        points.p1 = p1\n",
    "        points.p2 = Point(p1.x + 4, p1.y + 3)\n",
    "\n",
    "    def length(points):\n",
    "        return ((points.p2.x - points.p1.x) ** 2 + (points.p2.y - points.p1.y) ** 2) ** 0.5\n",
    "\n",
    "    def slope(points):\n",
    "        return (points.p2.y - points.p1.y) / (points.p2.x - points.p1.x) if points.p2.x - points.p1.x != 0 else None\n",
    "\n",
    "p1 = Point(3, 4)\n",
    "p2 = Point()\n",
    "s = Segment(p1, p2)\n",
    "\n",
    "print(\"Length:\", s.length())\n",
    "print(\"Slope:\", s.slope()) "
   ]
  },
  {
   "cell_type": "code",
   "execution_count": null,
   "id": "45bd98a2",
   "metadata": {},
   "outputs": [],
   "source": []
  }
 ],
 "metadata": {
  "kernelspec": {
   "display_name": "Python 3 (ipykernel)",
   "language": "python",
   "name": "python3"
  },
  "language_info": {
   "codemirror_mode": {
    "name": "ipython",
    "version": 3
   },
   "file_extension": ".py",
   "mimetype": "text/x-python",
   "name": "python",
   "nbconvert_exporter": "python",
   "pygments_lexer": "ipython3",
   "version": "3.11.5"
  }
 },
 "nbformat": 4,
 "nbformat_minor": 5
}
